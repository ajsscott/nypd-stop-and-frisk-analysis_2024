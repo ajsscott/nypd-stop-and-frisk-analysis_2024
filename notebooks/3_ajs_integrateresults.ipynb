{
 "cells": [
  {
   "cell_type": "code",
   "execution_count": 49,
   "metadata": {},
   "outputs": [],
   "source": [
    "import numpy as np\n",
    "import pandas as pd\n",
    "import matplotlib.pyplot as plt\n",
    "import geopandas as gpd\n",
    "import pickle"
   ]
  },
  {
   "cell_type": "code",
   "execution_count": null,
   "metadata": {},
   "outputs": [],
   "source": [
    "# load census geodata\n",
    "census_geo = gpd.read_file('./data/processed/geo/censustracts2020.geojson') "
   ]
  },
  {
   "cell_type": "code",
   "execution_count": null,
   "metadata": {},
   "outputs": [],
   "source": [
    "# load significant tract data\n",
    "input_filepath = './data/interim/significant-tract.pkl'\n",
    "\n",
    "# Open the pickle file in read mode\n",
    "with open(input_filepath, 'rb') as file:\n",
    "    sig_census_tracts = pickle.load(file)"
   ]
  },
  {
   "cell_type": "code",
   "execution_count": 52,
   "metadata": {},
   "outputs": [],
   "source": [
    "#change inf values to integers\n",
    "sig_census_tracts['chi2_statistic'] = sig_census_tracts['chi2_statistic'].replace(np.inf, 2300)"
   ]
  },
  {
   "cell_type": "code",
   "execution_count": 53,
   "metadata": {},
   "outputs": [],
   "source": [
    "# change high chi2 values to a max number for better plotting\n",
    "sig_census_tracts.loc[sig_census_tracts['chi2_statistic'] > 100, 'chi2_statistic'] = 100"
   ]
  },
  {
   "cell_type": "code",
   "execution_count": 54,
   "metadata": {},
   "outputs": [],
   "source": [
    "# make BoroCT2020 column a regular column not the index\n",
    "sig_census_tracts = sig_census_tracts.reset_index()"
   ]
  },
  {
   "cell_type": "code",
   "execution_count": 55,
   "metadata": {},
   "outputs": [],
   "source": [
    "# subset sig_census_tracts to only have columns want to merge\n",
    "chi2_only = sig_census_tracts[['BoroCT2020', 'chi2_statistic']]"
   ]
  },
  {
   "cell_type": "code",
   "execution_count": 56,
   "metadata": {},
   "outputs": [],
   "source": [
    "# add chi2_statistic to census_geo\n",
    "census_geo = census_geo.merge(chi2_only,\n",
    "                            on='BoroCT2020',\n",
    "                            how='left')"
   ]
  },
  {
   "cell_type": "code",
   "execution_count": null,
   "metadata": {},
   "outputs": [],
   "source": [
    "# save to csv\n",
    "census_geo.to_csv('./data/modeling/census_geo.csv', index=False)"
   ]
  },
  {
   "cell_type": "code",
   "execution_count": null,
   "metadata": {},
   "outputs": [],
   "source": [
    "# Define the file path\n",
    "output_filepath = './data/modeling/census_geo.pkl'\n",
    "\n",
    "# Open the file in write mode\n",
    "with open(output_filepath, 'wb') as file:\n",
    "    # Save the processed DataFrame as a pickle object\n",
    "    pickle.dump(census_geo, file)"
   ]
  }
 ],
 "metadata": {
  "kernelspec": {
   "display_name": "602_final_project_env",
   "language": "python",
   "name": "python3"
  },
  "language_info": {
   "codemirror_mode": {
    "name": "ipython",
    "version": 3
   },
   "file_extension": ".py",
   "mimetype": "text/x-python",
   "name": "python",
   "nbconvert_exporter": "python",
   "pygments_lexer": "ipython3",
   "version": "3.12.2"
  }
 },
 "nbformat": 4,
 "nbformat_minor": 2
}
