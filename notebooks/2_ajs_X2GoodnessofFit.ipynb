{
 "cells": [
  {
   "cell_type": "code",
   "execution_count": 13,
   "metadata": {},
   "outputs": [],
   "source": [
    "# libraries\n",
    "import numpy as np\n",
    "import pandas as pd\n",
    "import geopandas as gpd\n",
    "import scipy.stats as stats \n",
    "import pickle"
   ]
  },
  {
   "cell_type": "code",
   "execution_count": null,
   "metadata": {},
   "outputs": [],
   "source": [
    "# Load nypd_geo - has stops and CT areas\n",
    "input_filepath = './data/processed/geo/nypd_geo.pkl'\n",
    "\n",
    "# Open the pickle file in read mode\n",
    "with open(input_filepath, 'rb') as file:\n",
    "    nypd_geo = pickle.load(file)\n"
   ]
  },
  {
   "cell_type": "code",
   "execution_count": null,
   "metadata": {},
   "outputs": [],
   "source": [
    "# load census numeric data\n",
    "input_filepath = './data/processed/numeric/census.pkl'\n",
    "\n",
    "# Open the pickle file in read mode\n",
    "with open(input_filepath, 'rb') as file:\n",
    "    census = pickle.load(file)"
   ]
  },
  {
   "cell_type": "code",
   "execution_count": null,
   "metadata": {},
   "outputs": [],
   "source": [
    "# load nypd numeric summary data\n",
    "\n",
    "input_filepath = './data/processed/numeric/nypd_byrace.pkl'\n",
    "\n",
    "# Open the pickle file in read mode\n",
    "with open(input_filepath, 'rb') as file:\n",
    "    nypd = pickle.load(file)"
   ]
  },
  {
   "cell_type": "markdown",
   "metadata": {},
   "source": [
    "### Chi Squared Goodness of Fit Tests on PROPORTIONS"
   ]
  },
  {
   "cell_type": "code",
   "execution_count": 17,
   "metadata": {},
   "outputs": [],
   "source": [
    "# make columns match exactly for chi2 test\n",
    "censusX2 = census.drop(['Total', 'BoroName'], axis = 1)\n",
    "\n",
    "# reorder columns to match nypd\n",
    "column_order = list(nypd.columns)\n",
    "censusX2 = censusX2.reindex(columns=column_order)"
   ]
  },
  {
   "cell_type": "code",
   "execution_count": 18,
   "metadata": {},
   "outputs": [
    {
     "name": "stdout",
     "output_type": "stream",
     "text": [
      "No duplicate values found in 'BoroCT2020' column.\n"
     ]
    }
   ],
   "source": [
    "nypd_duplicates = nypd['BoroCT2020'].duplicated().any()\n",
    "censusX2_duplicates = censusX2.index.duplicated().any()\n",
    "\n",
    "if nypd_duplicates or censusX2_duplicates:\n",
    "    print(\"Duplicate values found in 'BoroCT2020' column.\")\n",
    "else:\n",
    "    print(\"No duplicate values found in 'BoroCT2020' column.\")"
   ]
  },
  {
   "cell_type": "code",
   "execution_count": 19,
   "metadata": {},
   "outputs": [],
   "source": [
    "#set tract numbers as index row\n",
    "nypd = nypd.set_index('BoroCT2020')\n",
    "censusX2 = censusX2.set_index('BoroCT2020')"
   ]
  },
  {
   "cell_type": "code",
   "execution_count": 20,
   "metadata": {},
   "outputs": [],
   "source": [
    "# Initialize an empty list to store results\n",
    "results = []\n",
    "\n",
    "# Define categories\n",
    "categories = ['Black', 'white', 'Mixed Race', 'Asian', 'American Indigenous', 'Other']\n"
   ]
  },
  {
   "cell_type": "code",
   "execution_count": null,
   "metadata": {},
   "outputs": [],
   "source": [
    "# Loop through each census tract\n",
    "for tract in nypd.index:\n",
    "    # extract rows at matching indices from both dataframes\n",
    "    observed_counts = np.array(nypd.loc[nypd.index == tract].values[0])\n",
    "    expected_counts = np.array(censusX2.loc[censusX2.index == tract].values[0])\n",
    "\n",
    "    # Calculate observed and expected proportions\n",
    "    observed_prop = observed_counts / np.sum(observed_counts)\n",
    "    expected_prop = expected_counts / np.sum(expected_counts)\n",
    "\n",
    "    # Perform chi-squared test\n",
    "    chi2_stat, p_val = stats.chisquare(f_obs=observed_prop, \n",
    "                                        f_exp=expected_prop)\n",
    "\n",
    "    # Calculate critical chi2 value\n",
    "    dof = len(categories) - 1\n",
    "    critical_chi2 = np.percentile(np.random.chisquare(dof, \n",
    "                                                      size=100000), 95)\n",
    "\n",
    "    # Append results to the list\n",
    "    results.append({\n",
    "        'BoroCT2020': tract,\n",
    "        'p-value': p_val,\n",
    "        'chi2_statistic': chi2_stat,\n",
    "        'critical_chi2_value': critical_chi2\n",
    "    })"
   ]
  },
  {
   "cell_type": "code",
   "execution_count": 22,
   "metadata": {},
   "outputs": [],
   "source": [
    "# Create a DataFrame from the list of results\n",
    "chi2_results  = pd.DataFrame(results)"
   ]
  },
  {
   "cell_type": "code",
   "execution_count": 25,
   "metadata": {},
   "outputs": [],
   "source": [
    "# filter for significan p-values\n",
    "tracts_significant = chi2_results[chi2_results['p-value'] < 0.05]"
   ]
  },
  {
   "cell_type": "code",
   "execution_count": null,
   "metadata": {},
   "outputs": [],
   "source": [
    "# save to csv\n",
    "tracts_significant.to_csv('./data/interim/significant-tracts.csv', index=False)"
   ]
  },
  {
   "cell_type": "code",
   "execution_count": null,
   "metadata": {},
   "outputs": [],
   "source": [
    "# Define the file path\n",
    "output_filepath = './data/interim/significant-tract.pkl'\n",
    "\n",
    "# Open the file in write mode\n",
    "with open(output_filepath, 'wb') as file:\n",
    "    # Save the processed DataFrame as a pickle object\n",
    "    pickle.dump(tracts_significant, file)"
   ]
  }
 ],
 "metadata": {
  "kernelspec": {
   "display_name": "602_final_project_env",
   "language": "python",
   "name": "python3"
  },
  "language_info": {
   "codemirror_mode": {
    "name": "ipython",
    "version": 3
   },
   "file_extension": ".py",
   "mimetype": "text/x-python",
   "name": "python",
   "nbconvert_exporter": "python",
   "pygments_lexer": "ipython3",
   "version": "3.12.2"
  }
 },
 "nbformat": 4,
 "nbformat_minor": 2
}
