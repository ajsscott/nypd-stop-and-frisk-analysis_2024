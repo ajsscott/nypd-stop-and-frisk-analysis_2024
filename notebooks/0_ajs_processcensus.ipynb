{
 "cells": [
  {
   "cell_type": "code",
   "execution_count": 1,
   "metadata": {},
   "outputs": [],
   "source": [
    "import pandas as pd\n",
    "import numpy as np\n",
    "import pickle"
   ]
  },
  {
   "cell_type": "code",
   "execution_count": null,
   "metadata": {},
   "outputs": [],
   "source": [
    "\n",
    "# List of file paths\n",
    "file_paths = ['./data/raw/census/numeric/census-bronx.csv', \n",
    "              './data/raw/census/numeric/census-kings.csv', \n",
    "              './data/raw/census/numeric/census-newyork.csv', \n",
    "              './data/raw/census/numeric/census-queens.csv', \n",
    "              './data/raw/census/numeric/census-richmond.csv']\n",
    "\n",
    "# List to store dataframes\n",
    "dfs = []\n",
    "\n",
    "# Import CSV files as dataframes\n",
    "for file_path in file_paths:\n",
    "    df = pd.read_csv(file_path)\n",
    "    dfs.append(df)\n",
    "\n",
    "# Join dataframes column-wise\n",
    "census = pd.concat(dfs, axis=1)\n",
    "\n"
   ]
  },
  {
   "cell_type": "code",
   "execution_count": 3,
   "metadata": {},
   "outputs": [],
   "source": [
    "#extract column\n",
    "labels = np.array(census.iloc[:, 0])\n",
    "\n",
    "# Remove 'Labels (Grouping)' column from census dataframe\n",
    "census = census.drop(columns=['Label (Grouping)'])\n",
    "\n",
    "# Convert all columns to numeric\n",
    "census = census.apply(pd.to_numeric, errors='coerce')\n",
    "\n",
    "#add column back\n",
    "census.insert(0, 'Race', labels)\n"
   ]
  },
  {
   "cell_type": "code",
   "execution_count": 4,
   "metadata": {},
   "outputs": [],
   "source": [
    "census = census.drop(index=[1, 8, 10, 11, 12, 13, 14, 15, 16, 17, 18, 19, 20, 21, 22, 23, 24, 26, 27, 28, 29, 30, 31, 32, 33, 34, 35, 36, 37, 38, 39, 40, 41, 42, 43, 44, 45, 47, 48, 49, 50, 51, 52, 53, 54, 55, 56, 57, 58, 59, 60, 61, 63, 64, 65, 66, 67, 68, 70])"
   ]
  },
  {
   "cell_type": "code",
   "execution_count": 5,
   "metadata": {},
   "outputs": [],
   "source": [
    "# invert make rows columns and columns rows\n",
    "census = census.transpose()"
   ]
  },
  {
   "cell_type": "code",
   "execution_count": 6,
   "metadata": {},
   "outputs": [],
   "source": [
    "# give columns name of first row\n",
    "census.columns = census.iloc[0]\n",
    "census = census[1:]"
   ]
  },
  {
   "cell_type": "code",
   "execution_count": 7,
   "metadata": {},
   "outputs": [],
   "source": [
    "# remove whitepaces from column names\n",
    "census.columns = census.columns.str.strip()"
   ]
  },
  {
   "cell_type": "code",
   "execution_count": 8,
   "metadata": {},
   "outputs": [],
   "source": [
    "# Rename race columns to standarized\n",
    "col_names = {\n",
    "    'Total:': 'Total',\n",
    "    'White alone': 'white',\n",
    "    'Black or African American alone': 'Black',\n",
    "    'American Indian and Alaska Native alone': 'American Indigenous',\n",
    "    'Asian alone': 'Asian2',\n",
    "    'Native Hawaiian and Other Pacific Islander alone': 'Asian1',\n",
    "    'Some Other Race alone': 'Other',\n",
    "    'Population of two races:': 'Mixed Race1',\n",
    "    'Population of three races:': 'Mixed Race2',\n",
    "    'Population of four races:': 'Mixed Race3',\n",
    "    'Population of five races:': 'Mixed Race4',\n",
    "    'Population of six races:': 'Mixed Race5'\n",
    "}\n",
    " \n",
    "census = census.rename(columns=col_names)"
   ]
  },
  {
   "cell_type": "code",
   "execution_count": 9,
   "metadata": {},
   "outputs": [],
   "source": [
    "# combine mixed race columns\n",
    "census['Mixed Race'] = census[['Mixed Race5', 'Mixed Race1', 'Mixed Race2', 'Mixed Race3', 'Mixed Race4']].sum(axis=1)\n"
   ]
  },
  {
   "cell_type": "code",
   "execution_count": 10,
   "metadata": {},
   "outputs": [],
   "source": [
    "# combine Asian columns\n",
    "census['Asian'] = census[['Asian2', 'Asian1']].sum(axis=1)"
   ]
  },
  {
   "cell_type": "code",
   "execution_count": 11,
   "metadata": {},
   "outputs": [],
   "source": [
    "census.drop(columns=['Asian2', 'Asian1', 'Mixed Race5', 'Mixed Race1', 'Mixed Race2', 'Mixed Race3', 'Mixed Race4'], inplace=True)\n"
   ]
  },
  {
   "cell_type": "code",
   "execution_count": 12,
   "metadata": {
    "vscode": {
     "languageId": "javascript"
    }
   },
   "outputs": [],
   "source": [
    "census = census.reset_index()\n",
    "census = census.rename(columns={'index': 'BoroCT2020'})\n"
   ]
  },
  {
   "cell_type": "markdown",
   "metadata": {},
   "source": [
    "# Convert to Census tract numbers"
   ]
  },
  {
   "cell_type": "code",
   "execution_count": 13,
   "metadata": {},
   "outputs": [],
   "source": [
    "# make a new boro column\n",
    "census['BoroName'] = census['BoroCT2020'].str.extract(r', (.+?) County')"
   ]
  },
  {
   "cell_type": "code",
   "execution_count": 14,
   "metadata": {},
   "outputs": [],
   "source": [
    "# cut to just the number\n",
    "census['BoroCT2020'] = census['BoroCT2020'].astype(str)\n",
    "census['BoroCT2020'] = census['BoroCT2020'].str.extract(r'Census Tract ([\\d.]+),')"
   ]
  },
  {
   "cell_type": "code",
   "execution_count": 15,
   "metadata": {},
   "outputs": [],
   "source": [
    "# remove period if the string has one, add two 00s to the end if it doesnt\n",
    "census['BoroCT2020'] = census['BoroCT2020'].apply(lambda x: x.replace('.', '') if '.' in x else x + '00')"
   ]
  },
  {
   "cell_type": "code",
   "execution_count": 16,
   "metadata": {
    "vscode": {
     "languageId": "javascript"
    }
   },
   "outputs": [],
   "source": [
    "# add zeros to front of string until reach length of 6 total\n",
    "census['BoroCT2020'] = census['BoroCT2020'].str.zfill(6)"
   ]
  },
  {
   "cell_type": "code",
   "execution_count": 17,
   "metadata": {},
   "outputs": [],
   "source": [
    "# Update BoroCT2020 and BoroName to match census geo data\n",
    "census.loc[census['BoroName'] == 'New York', 'BoroCT2020'] = '1' + census.loc[census['BoroName'] == 'New York', 'BoroCT2020']\n",
    "census.loc[census['BoroName'] == 'New York', 'BoroName'] = 'Manhattan'\n",
    "\n",
    "census.loc[census['BoroName'] == 'Richmond', 'BoroCT2020'] = '5' + census.loc[census['BoroName'] == 'Richmond', 'BoroCT2020']\n",
    "census.loc[census['BoroName'] == 'Richmond', 'BoroName'] = 'Staten Island'\n",
    "\n",
    "census.loc[census['BoroName'] == 'Kings', 'BoroCT2020'] = '3' + census.loc[census['BoroName'] == 'Kings', 'BoroCT2020']\n",
    "census.loc[census['BoroName'] == 'Kings', 'BoroName'] = 'Brooklyn'\n",
    "\n",
    "census.loc[census['BoroName'] == 'Queens', 'BoroCT2020'] = '4' + census.loc[census['BoroName'] == 'Queens', 'BoroCT2020']\n",
    "\n",
    "census.loc[census['BoroName'] == 'Bronx', 'BoroCT2020'] = '2' + census.loc[census['BoroName'] == 'Bronx', 'BoroCT2020']"
   ]
  },
  {
   "cell_type": "markdown",
   "metadata": {},
   "source": [
    "# Replace NAs with zeros"
   ]
  },
  {
   "cell_type": "code",
   "execution_count": 18,
   "metadata": {},
   "outputs": [],
   "source": [
    "# change numeric NaN values to 0\n",
    "census = census.fillna(0)"
   ]
  },
  {
   "cell_type": "code",
   "execution_count": 19,
   "metadata": {},
   "outputs": [],
   "source": [
    "# calculate a total values for all rows\n",
    "if (census['Total'] == 0).any():\n",
    "    # Sum all numeric rows and replace the 0 with the total\n",
    "    census['Total'] = census.select_dtypes(include='number').sum(axis=1)"
   ]
  },
  {
   "cell_type": "code",
   "execution_count": null,
   "metadata": {},
   "outputs": [],
   "source": [
    "# write to csv\n",
    "census.to_csv('./data/processed/numeric/census.csv', index=False)"
   ]
  },
  {
   "cell_type": "code",
   "execution_count": null,
   "metadata": {},
   "outputs": [],
   "source": [
    "# Define the file path\n",
    "output_filepath = './data/processed/numeric/census.pkl'\n",
    "\n",
    "# Open the file in write mode\n",
    "with open(output_filepath, 'wb') as file:\n",
    "    # Save the processed DataFrame as a pickle object\n",
    "    pickle.dump(census, file)"
   ]
  }
 ],
 "metadata": {
  "kernelspec": {
   "display_name": "602_final_project_env",
   "language": "python",
   "name": "python3"
  },
  "language_info": {
   "codemirror_mode": {
    "name": "ipython",
    "version": 3
   },
   "file_extension": ".py",
   "mimetype": "text/x-python",
   "name": "python",
   "nbconvert_exporter": "python",
   "pygments_lexer": "ipython3",
   "version": "3.12.2"
  }
 },
 "nbformat": 4,
 "nbformat_minor": 2
}
