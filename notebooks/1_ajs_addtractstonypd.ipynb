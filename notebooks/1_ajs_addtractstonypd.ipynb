{
 "cells": [
  {
   "cell_type": "code",
   "execution_count": 1,
   "metadata": {},
   "outputs": [],
   "source": [
    "# libraries\n",
    "import pickle\n",
    "import pandas as pd\n",
    "import geopandas as gpd"
   ]
  },
  {
   "cell_type": "markdown",
   "metadata": {},
   "source": [
    "Goal: Place each Level 3 stop in a census tract area"
   ]
  },
  {
   "cell_type": "code",
   "execution_count": 2,
   "metadata": {},
   "outputs": [],
   "source": [
    "# Load nypd_geo\n",
    "input_filepath = '/Users/opportunity/Documents/MSDS/2024-spring/DATA602/602_final-project/data/interim/nypd_geo.pkl'\n",
    "\n",
    "# Open the pickle file in read mode\n",
    "with open(input_filepath, 'rb') as file:\n",
    "    nypd_geo = pickle.load(file)\n"
   ]
  },
  {
   "cell_type": "code",
   "execution_count": 3,
   "metadata": {},
   "outputs": [],
   "source": [
    "# load census geodata\n",
    "census_tracts = gpd.read_file('/Users/opportunity/Documents/MSDS/2024-spring/DATA602/602_final-project/data/processed/geo/censustracts2020.geojson') "
   ]
  },
  {
   "cell_type": "code",
   "execution_count": 18,
   "metadata": {},
   "outputs": [
    {
     "name": "stdout",
     "output_type": "stream",
     "text": [
      "EPSG:2263\n"
     ]
    }
   ],
   "source": [
    "# Reproject census to EPSG:2263\n",
    "census_tracts = census_tracts.to_crs(epsg=2263)\n",
    "print(census_tracts.crs)"
   ]
  },
  {
   "cell_type": "code",
   "execution_count": 5,
   "metadata": {},
   "outputs": [],
   "source": [
    "# Make a list of census tract column names\n",
    "column_names = census_tracts.columns.tolist()"
   ]
  },
  {
   "cell_type": "code",
   "execution_count": 6,
   "metadata": {},
   "outputs": [],
   "source": [
    "# Reset index of both GeoDataFrames\n",
    "nypd_geo = nypd_geo.reset_index(drop=True)\n",
    "census_tracts = census_tracts.reset_index(drop=True)"
   ]
  },
  {
   "cell_type": "code",
   "execution_count": 7,
   "metadata": {},
   "outputs": [],
   "source": [
    "# join the geo dataframes\n",
    "nypd_geo =nypd_geo.sjoin_nearest(census_tracts)"
   ]
  },
  {
   "cell_type": "code",
   "execution_count": 8,
   "metadata": {},
   "outputs": [],
   "source": [
    "# save to csv\n",
    "nypd_geo.to_csv('/Users/opportunity/Documents/MSDS/2024-spring/DATA602/602_final-project/data/processed/geo/nypd_geo.csv', index=False)"
   ]
  },
  {
   "cell_type": "code",
   "execution_count": 9,
   "metadata": {},
   "outputs": [],
   "source": [
    "# Define the file path\n",
    "output_filepath = '/Users/opportunity/Documents/MSDS/2024-spring/DATA602/602_final-project/data/processed/geo/nypd_geo.pkl'\n",
    "\n",
    "# Open the file in write mode\n",
    "with open(output_filepath, 'wb') as file:\n",
    "    # Save the processed DataFrame as a pickle object\n",
    "    pickle.dump(nypd_geo, file)"
   ]
  },
  {
   "cell_type": "code",
   "execution_count": 10,
   "metadata": {},
   "outputs": [],
   "source": [
    "# remove 'BoroCT2020' and 'BoroName' from list\n",
    "column_names.remove('BoroCT2020')\n",
    "column_names.remove('BoroName')"
   ]
  },
  {
   "cell_type": "code",
   "execution_count": 11,
   "metadata": {},
   "outputs": [],
   "source": [
    "# remove columns in column_names from nypd_geo\n",
    "nypd_tracts = nypd_geo.drop(column_names, axis=1)"
   ]
  },
  {
   "cell_type": "code",
   "execution_count": 12,
   "metadata": {},
   "outputs": [],
   "source": [
    "# save to csv\n",
    "nypd_tracts.to_csv('/Users/opportunity/Documents/MSDS/2024-spring/DATA602/602_final-project/data/processed/numeric/nypd.csv', index=False)"
   ]
  },
  {
   "cell_type": "code",
   "execution_count": 13,
   "metadata": {},
   "outputs": [],
   "source": [
    "# Define the file path\n",
    "output_filepath = '/Users/opportunity/Documents/MSDS/2024-spring/DATA602/602_final-project/data/processed/numeric/nypd.pkl'\n",
    "\n",
    "# Open the file in write mode\n",
    "with open(output_filepath, 'wb') as file:\n",
    "    # Save the processed DataFrame as a pickle object\n",
    "    pickle.dump(nypd_tracts, file)"
   ]
  },
  {
   "cell_type": "markdown",
   "metadata": {},
   "source": [
    "# Summarize the nypd data by census tract"
   ]
  },
  {
   "cell_type": "code",
   "execution_count": 14,
   "metadata": {},
   "outputs": [],
   "source": [
    "#summarize by race\n",
    "nypd_summary = nypd_tracts.groupby('BoroCT2020')['SUSPECT_RACE_DESCRIPTION'].value_counts().unstack().fillna(0)"
   ]
  },
  {
   "cell_type": "code",
   "execution_count": 15,
   "metadata": {},
   "outputs": [],
   "source": [
    "nypd_summary = nypd_summary.reset_index()"
   ]
  },
  {
   "cell_type": "code",
   "execution_count": 16,
   "metadata": {},
   "outputs": [],
   "source": [
    "# save to csv\n",
    "nypd_summary.to_csv('/Users/opportunity/Documents/MSDS/2024-spring/DATA602/602_final-project/data/processed/numeric/nypd_byrace.csv', index=False)"
   ]
  },
  {
   "cell_type": "code",
   "execution_count": 17,
   "metadata": {},
   "outputs": [],
   "source": [
    "# Define the file path\n",
    "output_filepath = '/Users/opportunity/Documents/MSDS/2024-spring/DATA602/602_final-project/data/processed/numeric/nypd_byrace.pkl'\n",
    "\n",
    "# Open the file in write mode\n",
    "with open(output_filepath, 'wb') as file:\n",
    "    # Save the processed DataFrame as a pickle object\n",
    "    pickle.dump(nypd_summary, file)"
   ]
  }
 ],
 "metadata": {
  "kernelspec": {
   "display_name": "602_final_project_env",
   "language": "python",
   "name": "python3"
  },
  "language_info": {
   "codemirror_mode": {
    "name": "ipython",
    "version": 3
   },
   "file_extension": ".py",
   "mimetype": "text/x-python",
   "name": "python",
   "nbconvert_exporter": "python",
   "pygments_lexer": "ipython3",
   "version": "3.12.2"
  }
 },
 "nbformat": 4,
 "nbformat_minor": 2
}
