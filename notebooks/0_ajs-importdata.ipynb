{
 "cells": [
  {
   "cell_type": "code",
   "execution_count": 1,
   "metadata": {},
   "outputs": [],
   "source": [
    "# import libraries\n",
    "import numpy as np\n",
    "import pandas as pd"
   ]
  },
  {
   "cell_type": "code",
   "execution_count": 2,
   "metadata": {},
   "outputs": [],
   "source": [
    "# create column dtype list for import\n",
    "dtype_list = {\n",
    "    \"STOP_ID\": np.int32,\n",
    "    \"STOP_FRISK_DATE\": str,\n",
    "    \"STOP_FRISK_TIME\": str,\n",
    "    \"YEAR2\": np.int32,\n",
    "    \"MONTH2\": pd.CategoricalDtype,\n",
    "    \"DAY2\": pd.CategoricalDtype,\n",
    "    \"STOP_WAS_INITIATED\": pd.CategoricalDtype,\n",
    "    \"ISSUING_OFFICER_RANK\": pd.CategoricalDtype,\n",
    "    \"ISSUING_OFFICER_COMMAND_CODE\": np.int32,\n",
    "    \"SUPERVISING_OFFICER_RANK\": pd.CategoricalDtype,\n",
    "    \"SUPERVISING_OFFICER_COMMAND_CODE\": np.int32,\n",
    "    \"SUPERVISING_ACTION_CORRESPONDING_ACTIVITY_LOG_ENTRY_REVIEWED\": bool,\n",
    "    \"LOCATION_IN_OUT_CODE\": pd.CategoricalDtype,\n",
    "    \"JURISDICTION_CODE\": pd.CategoricalDtype,\n",
    "    \"JURISDICTION_DESCRIPTION\": pd.CategoricalDtype,\n",
    "    \"OBSERVED_DURATION_MINUTES\": np.int32,\n",
    "    \"SUSPECTED_CRIME_DESCRIPTION\": pd.CategoricalDtype,\n",
    "    \"STOP_DURATION_MINUTES\": np.int32,\n",
    "    \"OFFICER_EXPLAINED_STOP_FLAG\": bool,\n",
    "    \"OFFICER_NOT_EXPLAINED_STOP_DESCRIPTION\": str,\n",
    "    \"OTHER_PERSON_STOPPED_FLAG\": bool,\n",
    "    \"SUSPECT_ARRESTED_FLAG\": bool,\n",
    "    \"SUSPECT_ARREST_OFFENSE\": pd.CategoricalDtype,\n",
    "    \"SUMMONS_ISSUED_FLAG\": bool,\n",
    "    \"SUMMONS_OFFENSE_DESCRIPTION\": pd.CategoricalDtype,\n",
    "    \"OFFICER_IN_UNIFORM_FLAG\": bool,\n",
    "    \"ID_CARD_IDENTIFIES_OFFICER_FLAG\": str,\n",
    "    \"SHIELD_IDENTIFIES_OFFICER_FLAG\": str,\n",
    "    \"VERBAL_IDENTIFIES_OFFICER_FLAG\": str,\n",
    "    \"FRISKED_FLAG\": bool,\n",
    "    \"SEARCHED_FLAG\": bool,\n",
    "    \"ASK_FOR_CONSENT FLG\": bool,\n",
    "    \"CONSENT_GIVEN_FLG\": bool,\n",
    "    \"OTHER_CONTRABAND_FLAG\": bool,\n",
    "    \"FIREARM_FLAG\": bool,\n",
    "    \"KNIFE_CUTTER_FLAG\": bool,\n",
    "    \"OTHER_WEAPON_FLAG\": bool,\n",
    "    \"WEAPON_FOUND_FLAG\": bool,\n",
    "    \"PHYSICAL_FORCE_CEW_FLAG\": bool,\n",
    "    \"PHYSICAL_FORCE_DRAW_POINT_FIREARM_FLAG\": bool,\n",
    "    \"PHYSICAL_FORCE_HANDCUFF_SUSPECT_FLAG\": bool,\n",
    "    \"PHYSICAL_FORCE_OC_SPRAY_USED_FLAG\": bool,\n",
    "    \"PHYSICAL_FORCE_OTHER_FLAG\": bool,\n",
    "    \"PHYSICAL_FORCE_RESTRAINT_USED_FLAG\": bool,\n",
    "    \"PHYSICAL_FORCE_VERBAL_INSTRUCTION_FLAG\": bool,\n",
    "    \"PHYSICAL_FORCE_WEAPON_IMPACT_FLAG\": bool,\n",
    "    \"BACKGROUND_CIRCUMSTANCES_VIOLENT_CRIME_FLAG\": bool,\n",
    "    \"BACKGROUND_CIRCUMSTANCES_SUSPECT_KNOWN_TO_CARRY_WEAPON_FLAG\": bool,\n",
    "    \"SUSPECTS_ACTIONS_CASING_FLAG\": bool,\n",
    "    \"SUSPECTS_ACTIONS_CONCEALED_POSSESSION_WEAPON_FLAG\": bool,\n",
    "    \"SUSPECTS_ACTIONS_DESCRIPTION_FLAG\": bool,\n",
    "    \"SUSPECTS_ACTIONS_DRUG_TRANSACTIONS_FLAG\": bool,\n",
    "    \"SUSPECTS_ACTIONS_IDENTIFY_CRIME_PATTERN_FLAG\": bool,\n",
    "    \"SUSPECTS_ACTIONS_LOOKOUT_FLAG\": bool,\n",
    "    \"SUSPECTS_ACTIONS_OTHER_FLAG\": bool,\n",
    "    \"SUSPECTS_ACTIONS_PROXIMITY_TO_SCENE_FLAG\": bool,\n",
    "    \"SEARCH_BASIS_ADMISSION_FLAG\": bool,\n",
    "    \"SEARCH_BASIS_CONSENT_FLAG\": bool,\n",
    "    \"SEARCH_BASIS_HARD_OBJECT_FLAG\": bool,\n",
    "    \"SEARCH_BASIS_INCIDENTAL_TO_ARREST_FLAG\": bool,\n",
    "    \"SEARCH_BASIS_OTHER_FLAG\": bool,\n",
    "    \"SEARCH_BASIS_OUTLINE_FLAG\": bool,\n",
    "    \"DEMEANOR_OF_PERSON_STOPPED\": str,\n",
    "    \"SUSPECT_REPORTED_AGE\": str,\n",
    "    \"SUSPECT_SEX\": pd.CategoricalDtype,\n",
    "    \"SUSPECT_RACE_DESCRIPTION\": pd.CategoricalDtype,\n",
    "    \"SUSPECT_HEIGHT\": str,\n",
    "    \"SUSPECT_WEIGHT\": str,\n",
    "    \"SUSPECT_BODY_BUILD_TYPE\": pd.CategoricalDtype,\n",
    "    \"SUSPECT_EYE_COLOR\": pd.CategoricalDtype,\n",
    "    \"SUSPECT_HAIR_COLOR\": pd.CategoricalDtype,\n",
    "    \"SUSPECT_OTHER_DESCRIPTION\": str,\n",
    "    \"STOP_LOCATION_PRECINCT\": np.int32,\n",
    "    \"STOP_LOCATION_SECTOR_CODE\": pd.CategoricalDtype,\n",
    "    \"STOP_LOCATION_APARTMENT\": str,\n",
    "    \"STOP_LOCATION_FULL_ADDRESS\": str,\n",
    "    \"STOP_LOCATION_STREET_NAME\": str,\n",
    "    \"STOP_LOCATION_X\": str,\n",
    "    \"STOP_LOCATION_Y\": str,\n",
    "    \"STOP_LOCATION_PATROL_BORO_NAME\": str,\n",
    "    \"STOP_LOCATION_BORO_NAME\": pd.CategoricalDtype,\n",
    "}"
   ]
  },
  {
   "cell_type": "code",
   "execution_count": null,
   "metadata": {},
   "outputs": [],
   "source": [
    "# import xlsx NYPD stop-and-frisk data\n",
    "nypd = pd.read_excel(\n",
    "    \"https://github.com/annejscott/602_final-project/raw/main/data/raw/nypd-stop-frisk-2023.xlsx\",\n",
    "    index_col = 'STOP_ID',\n",
    "    na_values=[\"(null)\"],\n",
    "    true_values=[\"Y\", \"L\", \"V\", \"I\", \"S\"],\n",
    "    false_values=[\"N\"],\n",
    "    na_filter=False,\n",
    ")"
   ]
  },
  {
   "cell_type": "code",
   "execution_count": null,
   "metadata": {},
   "outputs": [],
   "source": [
    "temp = pd.read_excel(\n",
    "    \"https://github.com/annejscott/602_final-project/raw/main/data/raw/nypd-stop-frisk-2022.xlsx\",\n",
    "    na_values=[\"(null)\"],\n",
    "    true_values=[\"Y\", \"L\", \"V\", \"I\", \"S\"],\n",
    "    false_values=[\"N\"],\n",
    "    na_filter=False,\n",
    ")"
   ]
  },
  {
   "cell_type": "code",
   "execution_count": null,
   "metadata": {},
   "outputs": [],
   "source": [
    "# merge dataframes\n",
    "nypd = pd.concat([nypd, temp])"
   ]
  },
  {
   "cell_type": "code",
   "execution_count": null,
   "metadata": {},
   "outputs": [],
   "source": [
    "\n",
    "# Replace '(null)' with NaN\n",
    "nypd = nypd.replace('(null)', np.nan, inplace=True)"
   ]
  }
 ],
 "metadata": {
  "kernelspec": {
   "display_name": "602_final_project_env",
   "language": "python",
   "name": "python3"
  },
  "language_info": {
   "codemirror_mode": {
    "name": "ipython",
    "version": 3
   },
   "file_extension": ".py",
   "mimetype": "text/x-python",
   "name": "python",
   "nbconvert_exporter": "python",
   "pygments_lexer": "ipython3",
   "version": "3.12.2"
  }
 },
 "nbformat": 4,
 "nbformat_minor": 2
}
