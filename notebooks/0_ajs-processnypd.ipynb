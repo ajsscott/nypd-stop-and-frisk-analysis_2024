{
 "cells": [
  {
   "cell_type": "code",
   "execution_count": 9,
   "metadata": {},
   "outputs": [],
   "source": [
    "# import libraries\n",
    "import numpy as np\n",
    "import pandas as pd\n",
    "import geopandas as gpd\n",
    "from shapely.geometry import Point\n",
    "import pickle"
   ]
  },
  {
   "cell_type": "code",
   "execution_count": 10,
   "metadata": {},
   "outputs": [],
   "source": [
    "# import xlsx NYPD stop-and-frisk data\n",
    "yr2023 = pd.read_excel(\n",
    "    \"https://github.com/annejscott/602_final-project/raw/main/data/raw/nypd-stop-frisk-2023.xlsx\",\n",
    "                    na_values=[\"(null)\"])\n",
    "yr2022 = pd.read_excel(\n",
    "    \"https://github.com/annejscott/602_final-project/raw/main/data/raw/nypd-stop-frisk-2022.xlsx\",\n",
    "                        na_values=[\"(null)\"]) \n",
    "# merge dataframes\n",
    "nypd = pd.concat([yr2023, yr2022])"
   ]
  },
  {
   "cell_type": "code",
   "execution_count": 11,
   "metadata": {},
   "outputs": [],
   "source": [
    "# fix date/time columns\n",
    "nypd[\"STOP_FRISK_DATE\"] = pd.to_datetime(nypd[\"STOP_FRISK_DATE\"], format=\"mixed\")\n",
    "nypd[\"STOP_FRISK_TIME\"] = pd.to_datetime(\n",
    "    nypd[\"STOP_FRISK_TIME\"], errors=\"coerce\", format=\"mixed\")"
   ]
  },
  {
   "cell_type": "code",
   "execution_count": 12,
   "metadata": {},
   "outputs": [],
   "source": [
    " # fix boolean values\n",
    "nypd.replace({\"Y\": True, \"S\": True, \"V\": True, \"N\": False}, inplace=True)\n",
    "nypd[\"ID_CARD_IDENTIFIES_OFFICER_FLAG\"] = nypd[\"ID_CARD_IDENTIFIES_OFFICER_FLAG\"].replace({\"I\": True})"
   ]
  },
  {
   "cell_type": "code",
   "execution_count": 13,
   "metadata": {},
   "outputs": [],
   "source": [
    "# fix string columns\n",
    "str_columns = [\"OFFICER_NOT_EXPLAINED_STOP_DESCRIPTION\",\n",
    "        \"SUSPECT_ARREST_OFFENSE\",\n",
    "        \"DEMEANOR_OF_PERSON_STOPPED\",\n",
    "        \"SUSPECT_HEIGHT\",\n",
    "        \"SUSPECT_OTHER_DESCRIPTION\",\n",
    "        \"STOP_LOCATION_APARTMENT\",\n",
    "        \"STOP_LOCATION_FULL_ADDRESS\",\n",
    "        \"STOP_LOCATION_STREET_NAME\",\n",
    "        \"STOP_LOCATION_PATROL_BORO_NAME\",]\n",
    "nypd[str_columns] = nypd[str_columns].astype(\"str\")"
   ]
  },
  {
   "cell_type": "code",
   "execution_count": 14,
   "metadata": {},
   "outputs": [],
   "source": [
    "# Define function\n",
    "def make_categories(column_name):\n",
    "    categories = nypd[column_name].dropna().unique()\n",
    "    nypd[column_name] = pd.Categorical(nypd[column_name],\n",
    "                                    categories=categories)"
   ]
  },
  {
   "cell_type": "code",
   "execution_count": 15,
   "metadata": {},
   "outputs": [],
   "source": [
    "# fix categorical columns\n",
    "make_categories('RECORD_STATUS_CODE')\n",
    "make_categories('ISSUING_OFFICER_RANK')\n",
    "make_categories('SUPERVISING_OFFICER_RANK')\n",
    "make_categories('LOCATION_IN_OUT_CODE')\n",
    "make_categories('JURISDICTION_CODE')\n",
    "make_categories('JURISDICTION_DESCRIPTION')\n",
    "make_categories('SUSPECTED_CRIME_DESCRIPTION')\n",
    "make_categories('SUMMONS_OFFENSE_DESCRIPTION')\n",
    "make_categories('SUSPECT_SEX')\n",
    "make_categories('SUSPECT_RACE_DESCRIPTION')\n",
    "make_categories('SUSPECT_BODY_BUILD_TYPE')\n",
    "make_categories('SUSPECT_EYE_COLOR')\n",
    "make_categories('SUSPECT_HAIR_COLOR')\n",
    "make_categories('STOP_LOCATION_SECTOR_CODE')\n",
    "make_categories('STOP_LOCATION_BORO_NAME')"
   ]
  },
  {
   "cell_type": "code",
   "execution_count": 16,
   "metadata": {},
   "outputs": [],
   "source": [
    "race_mapping = {\n",
    "    'BLACK': 'Black',\n",
    "    'WHITE HISPANIC': 'white',\n",
    "    'BLACK HISPANIC': 'Mixed Race',\n",
    "    'ASIAN / PACIFIC ISLANDER': 'Asian',\n",
    "    'WHITE': 'white',\n",
    "    'AMERICAN INDIAN/ALASKAN NATIVE': 'American Indigenous',\n",
    "    'MIDDLE EASTERN/SOUTHWEST ASIAN': 'Other'\n",
    "}\n",
    "\n",
    "# standardize race descriptions\n",
    "nypd['SUSPECT_RACE_DESCRIPTION'] = nypd['SUSPECT_RACE_DESCRIPTION'].replace(race_mapping)"
   ]
  },
  {
   "cell_type": "code",
   "execution_count": 17,
   "metadata": {},
   "outputs": [],
   "source": [
    "# put boro in title case\n",
    "nypd['STOP_LOCATION_BORO_NAME'] = nypd['STOP_LOCATION_BORO_NAME'].str.title()"
   ]
  },
  {
   "cell_type": "code",
   "execution_count": 18,
   "metadata": {},
   "outputs": [],
   "source": [
    "# remove NA and 0 values\n",
    "\n",
    "nypd['STOP_LOCATION_X'] = nypd['STOP_LOCATION_X'].replace(0, np.nan)\n",
    "nypd['STOP_LOCATION_Y'] = nypd['STOP_LOCATION_Y'].replace(0, np.nan)\n",
    "\n",
    "nypd = nypd.dropna(subset=['STOP_LOCATION_X', 'STOP_LOCATION_Y'])"
   ]
  },
  {
   "cell_type": "code",
   "execution_count": 19,
   "metadata": {},
   "outputs": [],
   "source": [
    "nypd.to_csv('/Users/opportunity/Documents/MSDS/2024-spring/DATA602/602_final-project/data/processed/numeric/nypd.csv', index=False)"
   ]
  },
  {
   "cell_type": "code",
   "execution_count": 20,
   "metadata": {},
   "outputs": [],
   "source": [
    "# Define the file path\n",
    "output_filepath = '/Users/opportunity/Documents/MSDS/2024-spring/DATA602/602_final-project/data/processed/numeric/nypd.pkl'\n",
    "\n",
    "# Open the file in write mode\n",
    "with open(output_filepath, 'wb') as file:\n",
    "    # Save the processed DataFrame as a pickle object\n",
    "    pickle.dump(nypd, file)"
   ]
  },
  {
   "cell_type": "code",
   "execution_count": 21,
   "metadata": {},
   "outputs": [],
   "source": [
    "# convert latitude and longitude columns to geopandas geometry type\n",
    "geometry = [\n",
    "    Point(x, y) for x, y in zip(nypd[\"STOP_LOCATION_X\"], nypd[\"STOP_LOCATION_Y\"])\n",
    "    ]\n",
    "nypd_geo = gpd.GeoDataFrame(nypd, geometry=geometry,\n",
    "                        crs='EPSG:2263')"
   ]
  },
  {
   "cell_type": "code",
   "execution_count": 22,
   "metadata": {},
   "outputs": [],
   "source": [
    "# Filter out points with coordinates (0, 0)\n",
    "nypd_geo = nypd_geo[(nypd_geo.geometry.x != 0.0) & (nypd_geo.geometry.y != 0)]\n"
   ]
  },
  {
   "cell_type": "code",
   "execution_count": 23,
   "metadata": {},
   "outputs": [],
   "source": [
    "nypd_geo.to_csv('/Users/opportunity/Documents/MSDS/2024-spring/DATA602/602_final-project/data/interim/nypd_geo.csv', index=False)"
   ]
  },
  {
   "cell_type": "code",
   "execution_count": 24,
   "metadata": {},
   "outputs": [],
   "source": [
    "# Define the file path\n",
    "output_filepath = '/Users/opportunity/Documents/MSDS/2024-spring/DATA602/602_final-project/data/interim/nypd_geo.pkl'\n",
    "\n",
    "# Open the file in write mode\n",
    "with open(output_filepath, 'wb') as file:\n",
    "    # Save the processed DataFrame as a pickle object\n",
    "    pickle.dump(nypd_geo, file)"
   ]
  }
 ],
 "metadata": {
  "kernelspec": {
   "display_name": "602_final_project_env",
   "language": "python",
   "name": "python3"
  },
  "language_info": {
   "codemirror_mode": {
    "name": "ipython",
    "version": 3
   },
   "file_extension": ".py",
   "mimetype": "text/x-python",
   "name": "python",
   "nbconvert_exporter": "python",
   "pygments_lexer": "ipython3",
   "version": "3.12.2"
  }
 },
 "nbformat": 4,
 "nbformat_minor": 2
}
