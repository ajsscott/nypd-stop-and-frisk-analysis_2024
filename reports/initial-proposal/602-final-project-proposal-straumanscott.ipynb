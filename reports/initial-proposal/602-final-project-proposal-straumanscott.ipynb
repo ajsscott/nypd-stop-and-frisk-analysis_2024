{
 "cells": [
  {
   "cell_type": "markdown",
   "metadata": {},
   "source": [
    "# 602 Final Project Proposal\n",
    "## Background\n",
    "Although a federal court found the New York City Police Department’s abusive stop-and-frisk practices [unconstitutional](https://www.theguardian.com/world/2013/aug/12/new-york-stop-and-frisk-unconstitutional-judge) over a decade ago, the NYPD is still accused of continuing its [discriminatory practice](https://www.cityandstateny.com/opinion/2023/07/opinion-nypds-stop-and-frisk-practices-are-still-here-under-new-name/388627/) today. Right now, the NYPD can approach anyone they want and ask questions like what their name is or where they’re going – what the NYPD classifies as  “Level 1 or 2” stops. These kinds of encounters are some of the most common interactions between officers and New Yorkers. And because they don’t rise to the level of a stop-and-frisk (considered Level 3 stops) – when officers must have “reasonable suspicion” of criminal activity – the NYPD has not been required to track or publicly report on any of these encounters.\n",
    "In January 2024, the New York City Council voted to override [Mayor Eric Adams’s veto](https://www.nytimes.com/2024/01/30/nyregion/adams-veto-police-solitary.html) to enact the How Many Stops Act, which requires police officers to record the race, age and gender of most people they approach. The law’s supporters say it will give a fuller picture of whom officers are stopping during investigations.\n",
    "The police are already under a federal requirement to collect and share detailed information about ‘Level 3’ stops, when the police have a stronger suspicion that a person has committed a crime and an officer may use “reasonable force” to stop a person, ask “accusatory” questions and frisk the person. The [How Many Stops Act](https://www.nytimes.com/2024/02/03/nyregion/nypd-how-many-stops-act.html) requires that officers now provide similar information for lesser ‘Level 1’ and ‘Level 2’ stops, including noting the reason for any inquiry, demographic details about the person being stopped and why the stop was made.\n",
    "\n",
    "## Research Question\n",
    "At the time of the *How Many Stops Act* implementation, what are the demographic and geospatial allocations of current ‘Level 3’ or ‘Stop-and-Frisk’ civilian interactions? Are these numbers significant enough to indicate racial or geographic bias?\n",
    "\n",
    "## Relevance\n",
    "Social Impact Assessment, Additionally, employing frameworks such as the Social Return on Investment (SROI) or the Triple Bottom Line approach can help assess social impacts in a comprehensive manner. recidivism rates, trust in law enforcement, and perceptions of safety in neighborhoods across the city\n",
    "\n",
    "## Data Sources\n",
    "\n",
    "-   Publicly available [NYPD Stop, Question, and Frisk](https://www.nyc.gov/site/nypd/stats/reports-analysis/stopfrisk.page) database\n",
    "\n",
    "-   [ACLU Analysis](https://www.nyclu.org/en/stop-and-frisk-data) of Stop-and-Frisk History\n",
    "\n",
    "\n",
    "## Analysis\n",
    "Use Python libraries like Pandas, NumPy, and SciPy to conduct statistical analysis:\n",
    "\n",
    "-   Calculate stop-and-frisk rates by race and location.\n",
    "\n",
    "-   Analyze the association between race and stop outcomes (citations, searches, arrests).\n",
    "\n",
    "-   Determine if those associations are significant enough to indicate bias.\n",
    "\n",
    "## EDA and Summary Statistics"
   ]
  },
  {
   "cell_type": "code",
   "execution_count": 5,
   "metadata": {},
   "outputs": [
    {
     "name": "stdout",
     "output_type": "stream",
     "text": [
      "SUSPECT_RACE_DESCRIPTION\n",
      "BLACK                             9939\n",
      "WHITE HISPANIC                    3447\n",
      "BLACK HISPANIC                    1719\n",
      "WHITE                              942\n",
      "ASIAN / PACIFIC ISLANDER           288\n",
      "MIDDLE EASTERN/SOUTHWEST ASIAN     142\n",
      "AMERICAN INDIAN/ALASKAN NATIVE      22\n",
      "Name: count, dtype: int64\n"
     ]
    }
   ],
   "source": [
    "import numpy as np\n",
    "import pandas as pd\n",
    "\n",
    "filepath = 'https://github.com/annejscott/DATA602/raw/main/data/nypd-stop-frisk-2023.xlsx'\n",
    "nypd = pd.read_excel(filepath, na_values='(null)')\n",
    "\n",
    "print(nypd['SUSPECT_RACE_DESCRIPTION'].value_counts())\n"
   ]
  }
 ],
 "metadata": {
  "kernelspec": {
   "display_name": "venv",
   "language": "python",
   "name": "python3"
  },
  "language_info": {
   "codemirror_mode": {
    "name": "ipython",
    "version": 3
   },
   "file_extension": ".py",
   "mimetype": "text/x-python",
   "name": "python",
   "nbconvert_exporter": "python",
   "pygments_lexer": "ipython3",
   "version": "3.12.2"
  }
 },
 "nbformat": 4,
 "nbformat_minor": 2
}
