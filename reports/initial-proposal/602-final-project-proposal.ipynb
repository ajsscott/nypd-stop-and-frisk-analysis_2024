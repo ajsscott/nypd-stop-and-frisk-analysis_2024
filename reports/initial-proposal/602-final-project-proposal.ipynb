{
 "cells": [
  {
   "cell_type": "markdown",
   "metadata": {},
   "source": [
    "# 602 Final Project Proposal\n",
    "\n",
    "## Research Question\n",
    "\n",
    "## Relevance\n",
    "Social Impact Assessment, Additionally, employing frameworks such as the Social Return on Investment (SROI) or the Triple Bottom Line approach can help assess social impacts in a comprehensive manner. recidivism rates, trust in law enforcement, and perceptions of safety in neighborhoods across the city\n",
    "\n",
    "## Sources\n",
    "\n",
    "## Potential Libraries\n",
    "\n",
    "## EDA and Summary Statistics"
   ]
  }
 ],
 "metadata": {
  "language_info": {
   "name": "python"
  }
 },
 "nbformat": 4,
 "nbformat_minor": 2
}
